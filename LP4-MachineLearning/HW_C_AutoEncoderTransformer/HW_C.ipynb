{
  "cells": [
    {
      "cell_type": "markdown",
      "metadata": {
        "id": "pJ1POMWmv-mp"
      },
      "source": [
        "# Installs"
      ]
    },
    {
      "cell_type": "code",
      "execution_count": 1,
      "metadata": {
        "colab": {
          "base_uri": "https://localhost:8080/"
        },
        "id": "uZrwNzSUvR38",
        "outputId": "51839878-2b97-4b88-9a1f-c96f7fff2a85"
      },
      "outputs": [
        {
          "output_type": "stream",
          "name": "stdout",
          "text": [
            "Looking in indexes: https://pypi.org/simple, https://us-python.pkg.dev/colab-wheels/public/simple/\n",
            "Requirement already satisfied: deeptrack in /usr/local/lib/python3.10/dist-packages (1.5.6)\n",
            "Requirement already satisfied: tensorflow in /usr/local/lib/python3.10/dist-packages (from deeptrack) (2.12.0)\n",
            "Requirement already satisfied: numpy in /usr/local/lib/python3.10/dist-packages (from deeptrack) (1.22.4)\n",
            "Requirement already satisfied: matplotlib in /usr/local/lib/python3.10/dist-packages (from deeptrack) (3.7.1)\n",
            "Requirement already satisfied: scipy in /usr/local/lib/python3.10/dist-packages (from deeptrack) (1.10.1)\n",
            "Requirement already satisfied: numpydoc in /usr/local/lib/python3.10/dist-packages (from deeptrack) (1.5.0)\n",
            "Requirement already satisfied: scikit-image in /usr/local/lib/python3.10/dist-packages (from deeptrack) (0.19.3)\n",
            "Requirement already satisfied: tensorflow-probability in /usr/local/lib/python3.10/dist-packages (from deeptrack) (0.19.0)\n",
            "Requirement already satisfied: tensorflow-datasets in /usr/local/lib/python3.10/dist-packages (from deeptrack) (4.9.2)\n",
            "Requirement already satisfied: more-itertools in /usr/local/lib/python3.10/dist-packages (from deeptrack) (9.1.0)\n",
            "Requirement already satisfied: pint<0.20 in /usr/local/lib/python3.10/dist-packages (from deeptrack) (0.19.2)\n",
            "Requirement already satisfied: pandas in /usr/local/lib/python3.10/dist-packages (from deeptrack) (1.5.3)\n",
            "Requirement already satisfied: tqdm in /usr/local/lib/python3.10/dist-packages (from deeptrack) (4.65.0)\n",
            "Requirement already satisfied: tensorflow-addons in /usr/local/lib/python3.10/dist-packages (from deeptrack) (0.20.0)\n",
            "Requirement already satisfied: contourpy>=1.0.1 in /usr/local/lib/python3.10/dist-packages (from matplotlib->deeptrack) (1.0.7)\n",
            "Requirement already satisfied: cycler>=0.10 in /usr/local/lib/python3.10/dist-packages (from matplotlib->deeptrack) (0.11.0)\n",
            "Requirement already satisfied: fonttools>=4.22.0 in /usr/local/lib/python3.10/dist-packages (from matplotlib->deeptrack) (4.39.3)\n",
            "Requirement already satisfied: kiwisolver>=1.0.1 in /usr/local/lib/python3.10/dist-packages (from matplotlib->deeptrack) (1.4.4)\n",
            "Requirement already satisfied: packaging>=20.0 in /usr/local/lib/python3.10/dist-packages (from matplotlib->deeptrack) (23.1)\n",
            "Requirement already satisfied: pillow>=6.2.0 in /usr/local/lib/python3.10/dist-packages (from matplotlib->deeptrack) (8.4.0)\n",
            "Requirement already satisfied: pyparsing>=2.3.1 in /usr/local/lib/python3.10/dist-packages (from matplotlib->deeptrack) (3.0.9)\n",
            "Requirement already satisfied: python-dateutil>=2.7 in /usr/local/lib/python3.10/dist-packages (from matplotlib->deeptrack) (2.8.2)\n",
            "Requirement already satisfied: sphinx>=4.2 in /usr/local/lib/python3.10/dist-packages (from numpydoc->deeptrack) (7.0.0)\n",
            "Requirement already satisfied: Jinja2>=2.10 in /usr/local/lib/python3.10/dist-packages (from numpydoc->deeptrack) (3.1.2)\n",
            "Requirement already satisfied: pytz>=2020.1 in /usr/local/lib/python3.10/dist-packages (from pandas->deeptrack) (2022.7.1)\n",
            "Requirement already satisfied: networkx>=2.2 in /usr/local/lib/python3.10/dist-packages (from scikit-image->deeptrack) (3.1)\n",
            "Requirement already satisfied: imageio>=2.4.1 in /usr/local/lib/python3.10/dist-packages (from scikit-image->deeptrack) (2.25.1)\n",
            "Requirement already satisfied: tifffile>=2019.7.26 in /usr/local/lib/python3.10/dist-packages (from scikit-image->deeptrack) (2023.4.12)\n",
            "Requirement already satisfied: PyWavelets>=1.1.1 in /usr/local/lib/python3.10/dist-packages (from scikit-image->deeptrack) (1.4.1)\n",
            "Requirement already satisfied: absl-py>=1.0.0 in /usr/local/lib/python3.10/dist-packages (from tensorflow->deeptrack) (1.4.0)\n",
            "Requirement already satisfied: astunparse>=1.6.0 in /usr/local/lib/python3.10/dist-packages (from tensorflow->deeptrack) (1.6.3)\n",
            "Requirement already satisfied: flatbuffers>=2.0 in /usr/local/lib/python3.10/dist-packages (from tensorflow->deeptrack) (23.3.3)\n",
            "Requirement already satisfied: gast<=0.4.0,>=0.2.1 in /usr/local/lib/python3.10/dist-packages (from tensorflow->deeptrack) (0.4.0)\n",
            "Requirement already satisfied: google-pasta>=0.1.1 in /usr/local/lib/python3.10/dist-packages (from tensorflow->deeptrack) (0.2.0)\n",
            "Requirement already satisfied: grpcio<2.0,>=1.24.3 in /usr/local/lib/python3.10/dist-packages (from tensorflow->deeptrack) (1.54.0)\n",
            "Requirement already satisfied: h5py>=2.9.0 in /usr/local/lib/python3.10/dist-packages (from tensorflow->deeptrack) (3.8.0)\n",
            "Requirement already satisfied: jax>=0.3.15 in /usr/local/lib/python3.10/dist-packages (from tensorflow->deeptrack) (0.4.8)\n",
            "Requirement already satisfied: keras<2.13,>=2.12.0 in /usr/local/lib/python3.10/dist-packages (from tensorflow->deeptrack) (2.12.0)\n",
            "Requirement already satisfied: libclang>=13.0.0 in /usr/local/lib/python3.10/dist-packages (from tensorflow->deeptrack) (16.0.0)\n",
            "Requirement already satisfied: opt-einsum>=2.3.2 in /usr/local/lib/python3.10/dist-packages (from tensorflow->deeptrack) (3.3.0)\n",
            "Requirement already satisfied: protobuf!=4.21.0,!=4.21.1,!=4.21.2,!=4.21.3,!=4.21.4,!=4.21.5,<5.0.0dev,>=3.20.3 in /usr/local/lib/python3.10/dist-packages (from tensorflow->deeptrack) (3.20.3)\n",
            "Requirement already satisfied: setuptools in /usr/local/lib/python3.10/dist-packages (from tensorflow->deeptrack) (67.7.2)\n",
            "Requirement already satisfied: six>=1.12.0 in /usr/local/lib/python3.10/dist-packages (from tensorflow->deeptrack) (1.16.0)\n",
            "Requirement already satisfied: tensorboard<2.13,>=2.12 in /usr/local/lib/python3.10/dist-packages (from tensorflow->deeptrack) (2.12.2)\n",
            "Requirement already satisfied: tensorflow-estimator<2.13,>=2.12.0 in /usr/local/lib/python3.10/dist-packages (from tensorflow->deeptrack) (2.12.0)\n",
            "Requirement already satisfied: termcolor>=1.1.0 in /usr/local/lib/python3.10/dist-packages (from tensorflow->deeptrack) (2.3.0)\n",
            "Requirement already satisfied: typing-extensions>=3.6.6 in /usr/local/lib/python3.10/dist-packages (from tensorflow->deeptrack) (4.5.0)\n",
            "Requirement already satisfied: wrapt<1.15,>=1.11.0 in /usr/local/lib/python3.10/dist-packages (from tensorflow->deeptrack) (1.14.1)\n",
            "Requirement already satisfied: tensorflow-io-gcs-filesystem>=0.23.1 in /usr/local/lib/python3.10/dist-packages (from tensorflow->deeptrack) (0.32.0)\n",
            "Requirement already satisfied: typeguard<3.0.0,>=2.7 in /usr/local/lib/python3.10/dist-packages (from tensorflow-addons->deeptrack) (2.13.3)\n",
            "Requirement already satisfied: array-record in /usr/local/lib/python3.10/dist-packages (from tensorflow-datasets->deeptrack) (0.2.0)\n",
            "Requirement already satisfied: click in /usr/local/lib/python3.10/dist-packages (from tensorflow-datasets->deeptrack) (8.1.3)\n",
            "Requirement already satisfied: dm-tree in /usr/local/lib/python3.10/dist-packages (from tensorflow-datasets->deeptrack) (0.1.8)\n",
            "Requirement already satisfied: etils[enp,epath]>=0.9.0 in /usr/local/lib/python3.10/dist-packages (from tensorflow-datasets->deeptrack) (1.2.0)\n",
            "Requirement already satisfied: promise in /usr/local/lib/python3.10/dist-packages (from tensorflow-datasets->deeptrack) (2.3)\n",
            "Requirement already satisfied: psutil in /usr/local/lib/python3.10/dist-packages (from tensorflow-datasets->deeptrack) (5.9.5)\n",
            "Requirement already satisfied: requests>=2.19.0 in /usr/local/lib/python3.10/dist-packages (from tensorflow-datasets->deeptrack) (2.27.1)\n",
            "Requirement already satisfied: tensorflow-metadata in /usr/local/lib/python3.10/dist-packages (from tensorflow-datasets->deeptrack) (1.13.1)\n",
            "Requirement already satisfied: toml in /usr/local/lib/python3.10/dist-packages (from tensorflow-datasets->deeptrack) (0.10.2)\n",
            "Requirement already satisfied: decorator in /usr/local/lib/python3.10/dist-packages (from tensorflow-probability->deeptrack) (4.4.2)\n",
            "Requirement already satisfied: cloudpickle>=1.3 in /usr/local/lib/python3.10/dist-packages (from tensorflow-probability->deeptrack) (2.2.1)\n",
            "Requirement already satisfied: wheel<1.0,>=0.23.0 in /usr/local/lib/python3.10/dist-packages (from astunparse>=1.6.0->tensorflow->deeptrack) (0.40.0)\n",
            "Requirement already satisfied: importlib_resources in /usr/local/lib/python3.10/dist-packages (from etils[enp,epath]>=0.9.0->tensorflow-datasets->deeptrack) (5.12.0)\n",
            "Requirement already satisfied: zipp in /usr/local/lib/python3.10/dist-packages (from etils[enp,epath]>=0.9.0->tensorflow-datasets->deeptrack) (3.15.0)\n",
            "Requirement already satisfied: ml-dtypes>=0.0.3 in /usr/local/lib/python3.10/dist-packages (from jax>=0.3.15->tensorflow->deeptrack) (0.1.0)\n",
            "Requirement already satisfied: MarkupSafe>=2.0 in /usr/local/lib/python3.10/dist-packages (from Jinja2>=2.10->numpydoc->deeptrack) (2.1.2)\n",
            "Requirement already satisfied: urllib3<1.27,>=1.21.1 in /usr/local/lib/python3.10/dist-packages (from requests>=2.19.0->tensorflow-datasets->deeptrack) (1.26.15)\n",
            "Requirement already satisfied: certifi>=2017.4.17 in /usr/local/lib/python3.10/dist-packages (from requests>=2.19.0->tensorflow-datasets->deeptrack) (2022.12.7)\n",
            "Requirement already satisfied: charset-normalizer~=2.0.0 in /usr/local/lib/python3.10/dist-packages (from requests>=2.19.0->tensorflow-datasets->deeptrack) (2.0.12)\n",
            "Requirement already satisfied: idna<4,>=2.5 in /usr/local/lib/python3.10/dist-packages (from requests>=2.19.0->tensorflow-datasets->deeptrack) (3.4)\n",
            "Requirement already satisfied: sphinxcontrib-applehelp in /usr/local/lib/python3.10/dist-packages (from sphinx>=4.2->numpydoc->deeptrack) (1.0.4)\n",
            "Requirement already satisfied: sphinxcontrib-devhelp in /usr/local/lib/python3.10/dist-packages (from sphinx>=4.2->numpydoc->deeptrack) (1.0.2)\n",
            "Requirement already satisfied: sphinxcontrib-jsmath in /usr/local/lib/python3.10/dist-packages (from sphinx>=4.2->numpydoc->deeptrack) (1.0.1)\n",
            "Requirement already satisfied: sphinxcontrib-htmlhelp>=2.0.0 in /usr/local/lib/python3.10/dist-packages (from sphinx>=4.2->numpydoc->deeptrack) (2.0.1)\n",
            "Requirement already satisfied: sphinxcontrib-serializinghtml>=1.1.5 in /usr/local/lib/python3.10/dist-packages (from sphinx>=4.2->numpydoc->deeptrack) (1.1.5)\n",
            "Requirement already satisfied: sphinxcontrib-qthelp in /usr/local/lib/python3.10/dist-packages (from sphinx>=4.2->numpydoc->deeptrack) (1.0.3)\n",
            "Requirement already satisfied: Pygments>=2.13 in /usr/local/lib/python3.10/dist-packages (from sphinx>=4.2->numpydoc->deeptrack) (2.14.0)\n",
            "Requirement already satisfied: docutils<0.20,>=0.18.1 in /usr/local/lib/python3.10/dist-packages (from sphinx>=4.2->numpydoc->deeptrack) (0.19)\n",
            "Requirement already satisfied: snowballstemmer>=2.0 in /usr/local/lib/python3.10/dist-packages (from sphinx>=4.2->numpydoc->deeptrack) (2.2.0)\n",
            "Requirement already satisfied: babel>=2.9 in /usr/local/lib/python3.10/dist-packages (from sphinx>=4.2->numpydoc->deeptrack) (2.12.1)\n",
            "Requirement already satisfied: alabaster<0.8,>=0.7 in /usr/local/lib/python3.10/dist-packages (from sphinx>=4.2->numpydoc->deeptrack) (0.7.13)\n",
            "Requirement already satisfied: imagesize>=1.3 in /usr/local/lib/python3.10/dist-packages (from sphinx>=4.2->numpydoc->deeptrack) (1.4.1)\n",
            "Requirement already satisfied: google-auth<3,>=1.6.3 in /usr/local/lib/python3.10/dist-packages (from tensorboard<2.13,>=2.12->tensorflow->deeptrack) (2.17.3)\n",
            "Requirement already satisfied: google-auth-oauthlib<1.1,>=0.5 in /usr/local/lib/python3.10/dist-packages (from tensorboard<2.13,>=2.12->tensorflow->deeptrack) (1.0.0)\n",
            "Requirement already satisfied: markdown>=2.6.8 in /usr/local/lib/python3.10/dist-packages (from tensorboard<2.13,>=2.12->tensorflow->deeptrack) (3.4.3)\n",
            "Requirement already satisfied: tensorboard-data-server<0.8.0,>=0.7.0 in /usr/local/lib/python3.10/dist-packages (from tensorboard<2.13,>=2.12->tensorflow->deeptrack) (0.7.0)\n",
            "Requirement already satisfied: tensorboard-plugin-wit>=1.6.0 in /usr/local/lib/python3.10/dist-packages (from tensorboard<2.13,>=2.12->tensorflow->deeptrack) (1.8.1)\n",
            "Requirement already satisfied: werkzeug>=1.0.1 in /usr/local/lib/python3.10/dist-packages (from tensorboard<2.13,>=2.12->tensorflow->deeptrack) (2.3.0)\n",
            "Requirement already satisfied: googleapis-common-protos<2,>=1.52.0 in /usr/local/lib/python3.10/dist-packages (from tensorflow-metadata->tensorflow-datasets->deeptrack) (1.59.0)\n",
            "Requirement already satisfied: cachetools<6.0,>=2.0.0 in /usr/local/lib/python3.10/dist-packages (from google-auth<3,>=1.6.3->tensorboard<2.13,>=2.12->tensorflow->deeptrack) (5.3.0)\n",
            "Requirement already satisfied: pyasn1-modules>=0.2.1 in /usr/local/lib/python3.10/dist-packages (from google-auth<3,>=1.6.3->tensorboard<2.13,>=2.12->tensorflow->deeptrack) (0.3.0)\n",
            "Requirement already satisfied: rsa<5,>=3.1.4 in /usr/local/lib/python3.10/dist-packages (from google-auth<3,>=1.6.3->tensorboard<2.13,>=2.12->tensorflow->deeptrack) (4.9)\n",
            "Requirement already satisfied: requests-oauthlib>=0.7.0 in /usr/local/lib/python3.10/dist-packages (from google-auth-oauthlib<1.1,>=0.5->tensorboard<2.13,>=2.12->tensorflow->deeptrack) (1.3.1)\n",
            "Requirement already satisfied: pyasn1<0.6.0,>=0.4.6 in /usr/local/lib/python3.10/dist-packages (from pyasn1-modules>=0.2.1->google-auth<3,>=1.6.3->tensorboard<2.13,>=2.12->tensorflow->deeptrack) (0.5.0)\n",
            "Requirement already satisfied: oauthlib>=3.0.0 in /usr/local/lib/python3.10/dist-packages (from requests-oauthlib>=0.7.0->google-auth-oauthlib<1.1,>=0.5->tensorboard<2.13,>=2.12->tensorflow->deeptrack) (3.2.2)\n",
            "Looking in indexes: https://pypi.org/simple, https://us-python.pkg.dev/colab-wheels/public/simple/\n",
            "Requirement already satisfied: tensorflow in /usr/local/lib/python3.10/dist-packages (2.12.0)\n",
            "Requirement already satisfied: absl-py>=1.0.0 in /usr/local/lib/python3.10/dist-packages (from tensorflow) (1.4.0)\n",
            "Requirement already satisfied: astunparse>=1.6.0 in /usr/local/lib/python3.10/dist-packages (from tensorflow) (1.6.3)\n",
            "Requirement already satisfied: flatbuffers>=2.0 in /usr/local/lib/python3.10/dist-packages (from tensorflow) (23.3.3)\n",
            "Requirement already satisfied: gast<=0.4.0,>=0.2.1 in /usr/local/lib/python3.10/dist-packages (from tensorflow) (0.4.0)\n",
            "Requirement already satisfied: google-pasta>=0.1.1 in /usr/local/lib/python3.10/dist-packages (from tensorflow) (0.2.0)\n",
            "Requirement already satisfied: grpcio<2.0,>=1.24.3 in /usr/local/lib/python3.10/dist-packages (from tensorflow) (1.54.0)\n",
            "Requirement already satisfied: h5py>=2.9.0 in /usr/local/lib/python3.10/dist-packages (from tensorflow) (3.8.0)\n",
            "Requirement already satisfied: jax>=0.3.15 in /usr/local/lib/python3.10/dist-packages (from tensorflow) (0.4.8)\n",
            "Requirement already satisfied: keras<2.13,>=2.12.0 in /usr/local/lib/python3.10/dist-packages (from tensorflow) (2.12.0)\n",
            "Requirement already satisfied: libclang>=13.0.0 in /usr/local/lib/python3.10/dist-packages (from tensorflow) (16.0.0)\n",
            "Requirement already satisfied: numpy<1.24,>=1.22 in /usr/local/lib/python3.10/dist-packages (from tensorflow) (1.22.4)\n",
            "Requirement already satisfied: opt-einsum>=2.3.2 in /usr/local/lib/python3.10/dist-packages (from tensorflow) (3.3.0)\n",
            "Requirement already satisfied: packaging in /usr/local/lib/python3.10/dist-packages (from tensorflow) (23.1)\n",
            "Requirement already satisfied: protobuf!=4.21.0,!=4.21.1,!=4.21.2,!=4.21.3,!=4.21.4,!=4.21.5,<5.0.0dev,>=3.20.3 in /usr/local/lib/python3.10/dist-packages (from tensorflow) (3.20.3)\n",
            "Requirement already satisfied: setuptools in /usr/local/lib/python3.10/dist-packages (from tensorflow) (67.7.2)\n",
            "Requirement already satisfied: six>=1.12.0 in /usr/local/lib/python3.10/dist-packages (from tensorflow) (1.16.0)\n",
            "Requirement already satisfied: tensorboard<2.13,>=2.12 in /usr/local/lib/python3.10/dist-packages (from tensorflow) (2.12.2)\n",
            "Requirement already satisfied: tensorflow-estimator<2.13,>=2.12.0 in /usr/local/lib/python3.10/dist-packages (from tensorflow) (2.12.0)\n",
            "Requirement already satisfied: termcolor>=1.1.0 in /usr/local/lib/python3.10/dist-packages (from tensorflow) (2.3.0)\n",
            "Requirement already satisfied: typing-extensions>=3.6.6 in /usr/local/lib/python3.10/dist-packages (from tensorflow) (4.5.0)\n",
            "Requirement already satisfied: wrapt<1.15,>=1.11.0 in /usr/local/lib/python3.10/dist-packages (from tensorflow) (1.14.1)\n",
            "Requirement already satisfied: tensorflow-io-gcs-filesystem>=0.23.1 in /usr/local/lib/python3.10/dist-packages (from tensorflow) (0.32.0)\n",
            "Requirement already satisfied: wheel<1.0,>=0.23.0 in /usr/local/lib/python3.10/dist-packages (from astunparse>=1.6.0->tensorflow) (0.40.0)\n",
            "Requirement already satisfied: ml-dtypes>=0.0.3 in /usr/local/lib/python3.10/dist-packages (from jax>=0.3.15->tensorflow) (0.1.0)\n",
            "Requirement already satisfied: scipy>=1.7 in /usr/local/lib/python3.10/dist-packages (from jax>=0.3.15->tensorflow) (1.10.1)\n",
            "Requirement already satisfied: google-auth<3,>=1.6.3 in /usr/local/lib/python3.10/dist-packages (from tensorboard<2.13,>=2.12->tensorflow) (2.17.3)\n",
            "Requirement already satisfied: google-auth-oauthlib<1.1,>=0.5 in /usr/local/lib/python3.10/dist-packages (from tensorboard<2.13,>=2.12->tensorflow) (1.0.0)\n",
            "Requirement already satisfied: markdown>=2.6.8 in /usr/local/lib/python3.10/dist-packages (from tensorboard<2.13,>=2.12->tensorflow) (3.4.3)\n",
            "Requirement already satisfied: requests<3,>=2.21.0 in /usr/local/lib/python3.10/dist-packages (from tensorboard<2.13,>=2.12->tensorflow) (2.27.1)\n",
            "Requirement already satisfied: tensorboard-data-server<0.8.0,>=0.7.0 in /usr/local/lib/python3.10/dist-packages (from tensorboard<2.13,>=2.12->tensorflow) (0.7.0)\n",
            "Requirement already satisfied: tensorboard-plugin-wit>=1.6.0 in /usr/local/lib/python3.10/dist-packages (from tensorboard<2.13,>=2.12->tensorflow) (1.8.1)\n",
            "Requirement already satisfied: werkzeug>=1.0.1 in /usr/local/lib/python3.10/dist-packages (from tensorboard<2.13,>=2.12->tensorflow) (2.3.0)\n",
            "Requirement already satisfied: cachetools<6.0,>=2.0.0 in /usr/local/lib/python3.10/dist-packages (from google-auth<3,>=1.6.3->tensorboard<2.13,>=2.12->tensorflow) (5.3.0)\n",
            "Requirement already satisfied: pyasn1-modules>=0.2.1 in /usr/local/lib/python3.10/dist-packages (from google-auth<3,>=1.6.3->tensorboard<2.13,>=2.12->tensorflow) (0.3.0)\n",
            "Requirement already satisfied: rsa<5,>=3.1.4 in /usr/local/lib/python3.10/dist-packages (from google-auth<3,>=1.6.3->tensorboard<2.13,>=2.12->tensorflow) (4.9)\n",
            "Requirement already satisfied: requests-oauthlib>=0.7.0 in /usr/local/lib/python3.10/dist-packages (from google-auth-oauthlib<1.1,>=0.5->tensorboard<2.13,>=2.12->tensorflow) (1.3.1)\n",
            "Requirement already satisfied: urllib3<1.27,>=1.21.1 in /usr/local/lib/python3.10/dist-packages (from requests<3,>=2.21.0->tensorboard<2.13,>=2.12->tensorflow) (1.26.15)\n",
            "Requirement already satisfied: certifi>=2017.4.17 in /usr/local/lib/python3.10/dist-packages (from requests<3,>=2.21.0->tensorboard<2.13,>=2.12->tensorflow) (2022.12.7)\n",
            "Requirement already satisfied: charset-normalizer~=2.0.0 in /usr/local/lib/python3.10/dist-packages (from requests<3,>=2.21.0->tensorboard<2.13,>=2.12->tensorflow) (2.0.12)\n",
            "Requirement already satisfied: idna<4,>=2.5 in /usr/local/lib/python3.10/dist-packages (from requests<3,>=2.21.0->tensorboard<2.13,>=2.12->tensorflow) (3.4)\n",
            "Requirement already satisfied: MarkupSafe>=2.1.1 in /usr/local/lib/python3.10/dist-packages (from werkzeug>=1.0.1->tensorboard<2.13,>=2.12->tensorflow) (2.1.2)\n",
            "Requirement already satisfied: pyasn1<0.6.0,>=0.4.6 in /usr/local/lib/python3.10/dist-packages (from pyasn1-modules>=0.2.1->google-auth<3,>=1.6.3->tensorboard<2.13,>=2.12->tensorflow) (0.5.0)\n",
            "Requirement already satisfied: oauthlib>=3.0.0 in /usr/local/lib/python3.10/dist-packages (from requests-oauthlib>=0.7.0->google-auth-oauthlib<1.1,>=0.5->tensorboard<2.13,>=2.12->tensorflow) (3.2.2)\n",
            "nvcc: NVIDIA (R) Cuda compiler driver\n",
            "Copyright (c) 2005-2022 NVIDIA Corporation\n",
            "Built on Wed_Sep_21_10:33:58_PDT_2022\n",
            "Cuda compilation tools, release 11.8, V11.8.89\n",
            "Build cuda_11.8.r11.8/compiler.31833905_0\n"
          ]
        }
      ],
      "source": [
        "!pip install deeptrack\n",
        "!pip install tensorflow\n",
        "!/usr/local/cuda/bin/nvcc --version"
      ]
    },
    {
      "cell_type": "markdown",
      "source": [
        "# Imports"
      ],
      "metadata": {
        "id": "edN_2SRMv7XZ"
      }
    },
    {
      "cell_type": "code",
      "execution_count": 2,
      "metadata": {
        "colab": {
          "base_uri": "https://localhost:8080/"
        },
        "id": "JDgHn2omdik9",
        "outputId": "20c47ae4-5257-44aa-f7da-155a108f1082"
      },
      "outputs": [
        {
          "output_type": "stream",
          "name": "stderr",
          "text": [
            "/usr/local/lib/python3.10/dist-packages/tensorflow_addons/utils/tfa_eol_msg.py:23: UserWarning: \n",
            "\n",
            "TensorFlow Addons (TFA) has ended development and introduction of new features.\n",
            "TFA has entered a minimal maintenance and release mode until a planned end of life in May 2024.\n",
            "Please modify downstream libraries to take dependencies from other repositories in our TensorFlow community (e.g. Keras, Keras-CV, and Keras-NLP). \n",
            "\n",
            "For more information see: https://github.com/tensorflow/addons/issues/2807 \n",
            "\n",
            "  warnings.warn(\n"
          ]
        }
      ],
      "source": [
        "import deeptrack as dt\n",
        "import numpy as np\n",
        "import matplotlib.pyplot as plt\n",
        "import tensorflow as tf\n",
        "import keras\n",
        "from tensorflow.keras.layers import Layer, Dense, Attention, Concatenate, Conv1D, Dropout, LayerNormalization, LeakyReLU, Flatten, Input\n",
        "from tensorflow.keras.models import Model, Sequential\n",
        "from tensorflow.keras import layers, losses\n",
        "from tensorflow.keras.callbacks import EarlyStopping, LearningRateScheduler\n",
        "import pdb\n",
        "from keras.layers import LSTM\n",
        "from tensorflow.keras.optimizers import Adam"
      ]
    },
    {
      "cell_type": "markdown",
      "metadata": {
        "id": "_gBuSD6LpstH"
      },
      "source": [
        "# Generate data"
      ]
    },
    {
      "cell_type": "code",
      "execution_count": 3,
      "metadata": {
        "id": "kGUKsZrdu5MG"
      },
      "outputs": [],
      "source": [
        "IMAGE_SIZE = 64\n",
        "sequence_length = 10  # Number of frames per sequence\n",
        "MIN_SIZE = 0.5e-6\n",
        "MAX_SIZE = 1.5e-6\n",
        "MAX_VEL = 10  # Maximum velocity. The higher the trickier!\n",
        "MAX_PARTICLES = 3  # Max number of particles in each sequence. The higher the trickier!\n",
        "\n",
        "# Defining properties of the particles\n",
        "particle = dt.Sphere(\n",
        "    intensity=lambda: 10 + 10 * np.random.rand(),\n",
        "    radius=lambda: MIN_SIZE + np.random.rand() * (MAX_SIZE - MIN_SIZE),\n",
        "    position=lambda: IMAGE_SIZE * np.random.rand(2),\n",
        "    vel=lambda: MAX_VEL * np.random.rand(2),\n",
        "    position_unit=\"pixel\",\n",
        ")\n",
        "\n",
        "# Defining an update rule for the particle position\n",
        "def get_position(previous_value, vel):\n",
        "\n",
        "    newv = previous_value + vel\n",
        "    for i in range(2):\n",
        "        if newv[i] > 63:\n",
        "            newv[i] = 63 - np.abs(newv[i] - 63)\n",
        "            vel[i] = -vel[i]\n",
        "        elif newv[i] < 0:\n",
        "            newv[i] = np.abs(newv[i])\n",
        "            vel[i] = -vel[i]\n",
        "    return newv\n",
        "\n",
        "\n",
        "particle = dt.Sequential(particle, position=get_position)\n",
        "\n",
        "# Defining properties of the microscope\n",
        "optics = dt.Fluorescence(\n",
        "    NA=1,\n",
        "    output_region=(0, 0, IMAGE_SIZE, IMAGE_SIZE),\n",
        "    magnification=10,\n",
        "    resolution=(1e-6, 1e-6, 1e-6),\n",
        "    wavelength=633e-9,\n",
        ")\n",
        "\n",
        "# Combining everything into a dataset.\n",
        "# Note that the sequences are flipped in different directions, so that each unique sequence defines\n",
        "# in fact 8 sequences flipped in different directions, to speed up data generation\n",
        "sequential_images = dt.Sequence(\n",
        "    optics(particle ** (lambda: 1 + np.random.randint(MAX_PARTICLES))),\n",
        "    sequence_length=sequence_length,\n",
        ")\n",
        "\n",
        "dataset = sequential_images >> dt.FlipUD() >> dt.FlipDiagonal() >> dt.FlipLR()"
      ]
    },
    {
      "cell_type": "markdown",
      "metadata": {
        "id": "jV8xjYy6pwEF"
      },
      "source": [
        "Plots"
      ]
    },
    {
      "cell_type": "code",
      "execution_count": 4,
      "metadata": {
        "colab": {
          "base_uri": "https://localhost:8080/",
          "height": 0
        },
        "id": "ZvDcQ2bLfrG1",
        "outputId": "11f899ba-0712-44e0-a161-2b3d24d3b2ec"
      },
      "outputs": [
        {
          "output_type": "display_data",
          "data": {
            "text/plain": [
              "<Figure size 1000x300 with 10 Axes>"
            ],
            "image/png": "[encoded data removed]"
          },
          "metadata": {}
        },
        {
          "output_type": "display_data",
          "data": {
            "text/plain": [
              "<Figure size 1000x300 with 10 Axes>"
            ],
            "image/png": "[encoded data removed]"
          },
          "metadata": {}
        }
      ],
      "source": [
        "k=0\n",
        "for sample_sequence in dataset:\n",
        "    if k >= 2:\n",
        "        break\n",
        "    fig, axs = plt.subplots(1, sequence_length, figsize=(10, 3))\n",
        "    for i in range(sequence_length):\n",
        "        axs[i].imshow(sample_sequence[i][:, :, 0], cmap='gray')\n",
        "        axs[i].axis('off')\n",
        "    plt.show()\n",
        "    k += 1"
      ]
    },
    {
      "cell_type": "markdown",
      "metadata": {
        "id": "IWgME1Rb2zlI"
      },
      "source": [
        "# Variables"
      ]
    },
    {
      "cell_type": "code",
      "execution_count": 5,
      "metadata": {
        "id": "VCEyhWN221mM"
      },
      "outputs": [],
      "source": [
        "data_amount = 1000\n",
        "seq_len = 9\n",
        "latent_dim = 10\n",
        "n_heads = 3\n",
        "d_k= 12\n",
        "d_v= d_k \n",
        "VERBOSE = False\n",
        "#VERBOSE = True\n",
        "# Good result from 16 4 and 16"
      ]
    },
    {
      "cell_type": "markdown",
      "metadata": {
        "id": "BVd1MDAfqbun"
      },
      "source": [
        "# Choose dataset"
      ]
    },
    {
      "cell_type": "code",
      "execution_count": 6,
      "metadata": {
        "id": "cvqchtx509Dg"
      },
      "outputs": [],
      "source": [
        "frames = []\n",
        "for i in range(data_amount):\n",
        "    video = dataset.update().resolve() \n",
        "    for frame in video:\n",
        "        frames.append(frame)\n",
        "\n",
        "if VERBOSE:\n",
        "  print(frames[0].shape)    \n",
        "  print(len(frames))"
      ]
    },
    {
      "cell_type": "code",
      "execution_count": 7,
      "metadata": {
        "id": "qUOjNAMw2RcG"
      },
      "outputs": [],
      "source": [
        "num_samples = len(frames)\n",
        "split = 0.05\n",
        "train_data = tf.stack(frames[int(split* num_samples):])\n",
        "test_data = tf.stack(frames[:int(split * num_samples)])\n",
        "if VERBOSE:\n",
        "  print(len(train_data))"
      ]
    },
    {
      "cell_type": "markdown",
      "metadata": {
        "id": "j7qj3VNPpyxS"
      },
      "source": [
        "# Autoencoder"
      ]
    },
    {
      "cell_type": "code",
      "execution_count": 8,
      "metadata": {
        "id": "hX4w0m_p1wc2"
      },
      "outputs": [],
      "source": [
        "class Autoencoder(Model):\n",
        "  def __init__(self, latent_dim):\n",
        "    super(Autoencoder, self).__init__()\n",
        "    self.latent_dim = latent_dim   \n",
        "    \n",
        "    self.encoder = tf.keras.Sequential([\n",
        "      tf.keras.layers.InputLayer(input_shape=(64, 64, 1)),\n",
        "      tf.keras.layers.BatchNormalization(),\n",
        "      tf.keras.layers.Conv2D(filters=32, kernel_size=3, strides=(2, 2), activation='relu'),\n",
        "      tf.keras.layers.Conv2D(filters=64, kernel_size=3, strides=(2, 2), activation='relu'),\n",
        "      tf.keras.layers.Flatten(),\n",
        "      tf.keras.layers.Dense(latent_dim)\n",
        "      ]) # Dimension: (None, latent_dim)\n",
        "\n",
        "    self.decoder = tf.keras.Sequential([\n",
        "      tf.keras.layers.InputLayer(input_shape=(latent_dim,)),\n",
        "      tf.keras.layers.Dense(units=8 * 8 * 64, activation=tf.nn.relu),\n",
        "      tf.keras.layers.Reshape(target_shape=(8, 8, 64)),\n",
        "      tf.keras.layers.Conv2DTranspose(filters=32, kernel_size=4, strides=2, padding='same', activation='relu'),\n",
        "      tf.keras.layers.Conv2DTranspose(filters=16, kernel_size=4, strides=2, padding='same', activation='relu'),\n",
        "      tf.keras.layers.Conv2DTranspose(filters=1, kernel_size=4, strides=2, padding='same', activation='linear')\n",
        "      ])\n",
        "\n",
        "  def call(self, x):\n",
        "    encoded = self.encoder(x)\n",
        "    decoded = self.decoder(encoded)\n",
        "    return decoded\n",
        "\n",
        "autoencoder = Autoencoder(latent_dim)\n",
        "autoencoder.build((None, 64, 64, 1))\n",
        "if VERBOSE:\n",
        "  autoencoder.encoder.summary()\n",
        "  autoencoder.decoder.summary()"
      ]
    },
    {
      "cell_type": "markdown",
      "metadata": {
        "id": "hGa3gWQAsbBb"
      },
      "source": [
        "# Train the autoencoder"
      ]
    },
    {
      "cell_type": "code",
      "execution_count": 9,
      "metadata": {
        "colab": {
          "base_uri": "https://localhost:8080/"
        },
        "id": "ylDogR49OO7L",
        "outputId": "69fd9625-7c66-4c00-8556-79a6af60d29e"
      },
      "outputs": [
        {
          "output_type": "stream",
          "name": "stdout",
          "text": [
            "Epoch 1/100\n",
            "297/297 [==============================] - 8s 10ms/step - loss: 5.1795 - val_loss: 1.4696\n",
            "Epoch 2/100\n",
            "297/297 [==============================] - 2s 6ms/step - loss: 1.4609 - val_loss: 1.4446\n",
            "Epoch 3/100\n",
            "297/297 [==============================] - 2s 6ms/step - loss: 1.1609 - val_loss: 0.8937\n",
            "Epoch 4/100\n",
            "297/297 [==============================] - 2s 6ms/step - loss: 0.9390 - val_loss: 0.5204\n",
            "Epoch 5/100\n",
            "297/297 [==============================] - 2s 6ms/step - loss: 0.6693 - val_loss: 0.3125\n",
            "Epoch 6/100\n",
            "297/297 [==============================] - 2s 6ms/step - loss: 0.5745 - val_loss: 0.2846\n",
            "Epoch 7/100\n",
            "297/297 [==============================] - 2s 7ms/step - loss: 0.5012 - val_loss: 0.4718\n",
            "Epoch 8/100\n",
            "297/297 [==============================] - 2s 7ms/step - loss: 0.4063 - val_loss: 0.2270\n",
            "Epoch 9/100\n",
            "297/297 [==============================] - 2s 6ms/step - loss: 0.3972 - val_loss: 0.2334\n",
            "Epoch 10/100\n",
            "297/297 [==============================] - 2s 6ms/step - loss: 0.3979 - val_loss: 0.2557\n",
            "Epoch 11/100\n",
            "297/297 [==============================] - 2s 6ms/step - loss: 0.3360 - val_loss: 0.4378\n",
            "Epoch 12/100\n",
            "297/297 [==============================] - 2s 6ms/step - loss: 0.3507 - val_loss: 0.3875\n",
            "Epoch 13/100\n",
            "297/297 [==============================] - 2s 6ms/step - loss: 0.3363 - val_loss: 0.1884\n",
            "Epoch 14/100\n",
            "297/297 [==============================] - 2s 7ms/step - loss: 0.2959 - val_loss: 0.2139\n",
            "Epoch 15/100\n",
            "297/297 [==============================] - 2s 6ms/step - loss: 0.2993 - val_loss: 0.3276\n",
            "Epoch 16/100\n",
            "297/297 [==============================] - 2s 6ms/step - loss: 0.2789 - val_loss: 0.0816\n",
            "Epoch 17/100\n",
            "297/297 [==============================] - 2s 6ms/step - loss: 0.2739 - val_loss: 0.2621\n",
            "Epoch 18/100\n",
            "297/297 [==============================] - 2s 6ms/step - loss: 0.3138 - val_loss: 0.0947\n",
            "Epoch 19/100\n",
            "297/297 [==============================] - 2s 6ms/step - loss: 0.2401 - val_loss: 0.1268\n",
            "Epoch 20/100\n",
            "297/297 [==============================] - 2s 6ms/step - loss: 0.2636 - val_loss: 0.4684\n",
            "Epoch 21/100\n",
            "297/297 [==============================] - 2s 8ms/step - loss: 0.3015 - val_loss: 0.1232\n",
            "Epoch 22/100\n",
            "297/297 [==============================] - 2s 6ms/step - loss: 0.4061 - val_loss: 0.1137\n",
            "Epoch 23/100\n",
            "297/297 [==============================] - 2s 6ms/step - loss: 0.2894 - val_loss: 0.0985\n",
            "Epoch 24/100\n",
            "297/297 [==============================] - 2s 6ms/step - loss: 0.2340 - val_loss: 0.0858\n",
            "Epoch 25/100\n",
            "297/297 [==============================] - 2s 6ms/step - loss: 0.2680 - val_loss: 0.1189\n",
            "Epoch 26/100\n",
            "297/297 [==============================] - 2s 6ms/step - loss: 0.2707 - val_loss: 0.0787\n",
            "Epoch 27/100\n",
            "297/297 [==============================] - 2s 6ms/step - loss: 0.2768 - val_loss: 0.1532\n",
            "Epoch 28/100\n",
            "297/297 [==============================] - 2s 8ms/step - loss: 0.2157 - val_loss: 0.0681\n",
            "Epoch 29/100\n",
            "297/297 [==============================] - 2s 6ms/step - loss: 0.2258 - val_loss: 0.0843\n",
            "Epoch 30/100\n",
            "297/297 [==============================] - 2s 6ms/step - loss: 0.2345 - val_loss: 0.1208\n",
            "Epoch 31/100\n",
            "297/297 [==============================] - 2s 6ms/step - loss: 0.2622 - val_loss: 0.1789\n",
            "Epoch 32/100\n",
            "297/297 [==============================] - 2s 6ms/step - loss: 0.2594 - val_loss: 0.0701\n",
            "Epoch 33/100\n",
            "297/297 [==============================] - 2s 6ms/step - loss: 0.2448 - val_loss: 0.1060\n",
            "Epoch 34/100\n",
            "297/297 [==============================] - 2s 6ms/step - loss: 0.2198 - val_loss: 0.0712\n",
            "Epoch 35/100\n",
            "297/297 [==============================] - 2s 7ms/step - loss: 0.2367 - val_loss: 0.1004\n",
            "Epoch 36/100\n",
            "297/297 [==============================] - 2s 6ms/step - loss: 0.1998 - val_loss: 0.0724\n",
            "Epoch 37/100\n",
            "297/297 [==============================] - 2s 6ms/step - loss: 0.2212 - val_loss: 0.1224\n",
            "Epoch 38/100\n",
            "297/297 [==============================] - 2s 6ms/step - loss: 0.1958 - val_loss: 0.0667\n",
            "Epoch 39/100\n",
            "297/297 [==============================] - 2s 6ms/step - loss: 0.2409 - val_loss: 0.1083\n",
            "Epoch 40/100\n",
            "297/297 [==============================] - 2s 6ms/step - loss: 0.2013 - val_loss: 0.1064\n",
            "Epoch 41/100\n",
            "297/297 [==============================] - 2s 7ms/step - loss: 0.1820 - val_loss: 0.0988\n",
            "Epoch 42/100\n",
            "297/297 [==============================] - 2s 7ms/step - loss: 0.2123 - val_loss: 0.0568\n",
            "Epoch 43/100\n",
            "297/297 [==============================] - 2s 6ms/step - loss: 0.1791 - val_loss: 0.0931\n",
            "Epoch 44/100\n",
            "297/297 [==============================] - 2s 6ms/step - loss: 0.1843 - val_loss: 0.0489\n",
            "Epoch 45/100\n",
            "297/297 [==============================] - 2s 6ms/step - loss: 0.1896 - val_loss: 0.0698\n",
            "Epoch 46/100\n",
            "297/297 [==============================] - 2s 6ms/step - loss: 0.2079 - val_loss: 0.0689\n",
            "Epoch 47/100\n",
            "297/297 [==============================] - 2s 6ms/step - loss: 0.2013 - val_loss: 0.0755\n",
            "Epoch 48/100\n",
            "297/297 [==============================] - 2s 7ms/step - loss: 0.2461 - val_loss: 0.0682\n",
            "Epoch 49/100\n",
            "297/297 [==============================] - 2s 6ms/step - loss: 0.2032 - val_loss: 0.0674\n",
            "Epoch 50/100\n",
            "297/297 [==============================] - 2s 6ms/step - loss: 0.1886 - val_loss: 0.2161\n",
            "Epoch 51/100\n",
            "297/297 [==============================] - 2s 6ms/step - loss: 0.1506 - val_loss: 0.1139\n",
            "Epoch 52/100\n",
            "297/297 [==============================] - 2s 6ms/step - loss: 0.2141 - val_loss: 0.1739\n",
            "Epoch 53/100\n",
            "297/297 [==============================] - 2s 6ms/step - loss: 0.1819 - val_loss: 0.0851\n",
            "Epoch 54/100\n",
            "297/297 [==============================] - 2s 6ms/step - loss: 0.1725 - val_loss: 0.0827\n"
          ]
        }
      ],
      "source": [
        "autoencoder.compile(optimizer='adam', loss=tf.keras.losses.MeanSquaredError())\n",
        "callback = tf.keras.callbacks.EarlyStopping(monitor='val_loss', mode='min', patience=10, restore_best_weights=True)\n",
        "autoencoder.fit(train_data, train_data,\n",
        "                epochs=100,\n",
        "                shuffle=True,\n",
        "                validation_data=(test_data, test_data),\n",
        "                callbacks=[callback])\n",
        "autoencoder.trainable = False"
      ]
    },
    {
      "cell_type": "markdown",
      "metadata": {
        "id": "5PhhwRIgUD50"
      },
      "source": [
        "# Plot"
      ]
    },
    {
      "cell_type": "code",
      "execution_count": null,
      "metadata": {
        "id": "80OL92vDlnBf"
      },
      "outputs": [],
      "source": [
        "def plot_comparasion(decoded, train_data, num_pics=10):\n",
        "  plt.figure(figsize=(20, 4))\n",
        "  for i in range(num_pics):\n",
        "    # Original\n",
        "    ax = plt.subplot(2, num_pics, i + 1)\n",
        "    plt.imshow(train_data[i])\n",
        "    plt.gray()\n",
        "    ax.get_xaxis().set_visible(False)\n",
        "    ax.get_yaxis().set_visible(False)\n",
        "\n",
        "    # Reconstructed\n",
        "    ax = plt.subplot(2, num_pics, i + 1 + num_pics)\n",
        "    plt.imshow(decoded[i])\n",
        "    plt.gray()\n",
        "    ax.get_xaxis().set_visible(False)\n",
        "    ax.get_yaxis().set_visible(False)\n",
        "  plt.show()\n",
        "\n",
        "def plot_detailed(decoded, train_data):\n",
        "  plt.figure(figsize=(12, 6))\n",
        "  # Original\n",
        "  ax1 = plt.subplot(1, 2, 1)\n",
        "  plt.imshow(train_data[0])\n",
        "  ax1.axis('off')\n",
        "  # Reconstructed\n",
        "  ax2 = plt.subplot(1, 2, 2)\n",
        "  plt.imshow(decoded[0])\n",
        "  ax2.axis('off')\n",
        "  plt.show()\n",
        "\n",
        "def plot_loss_history(history):\n",
        "  # Train and validation loss\n",
        "  train_loss = history.history['loss']\n",
        "  val_loss = history.history['val_loss']\n",
        "\n",
        "  # Plot loss history\n",
        "  plt.plot(train_loss, label='train')\n",
        "  plt.plot(val_loss, label='val')\n",
        "  plt.title('Training and validation loss')\n",
        "  plt.xlabel('Epoch')\n",
        "  plt.ylabel('Loss')\n",
        "  plt.legend()\n",
        "  plt.show()"
      ]
    },
    {
      "cell_type": "code",
      "execution_count": null,
      "metadata": {
        "id": "buDbJZlCKOt-"
      },
      "outputs": [],
      "source": [
        "encoded = autoencoder.encoder(train_data).numpy()\n",
        "decoded = autoencoder.decoder(encoded).numpy()\n",
        "plot_comparasion(decoded, train_data)\n",
        "if VERBOSE:\n",
        "  plot_detailed(decoded, train_data)"
      ]
    },
    {
      "cell_type": "markdown",
      "metadata": {
        "id": "g_J7vJE-POcI"
      },
      "source": [
        "# Time2vec and SingleAttention\n"
      ]
    },
    {
      "cell_type": "code",
      "execution_count": 12,
      "metadata": {
        "id": "Bf_0OKlU0Xzi"
      },
      "outputs": [],
      "source": [
        "class Time2Vector(Layer):\n",
        "  def __init__(self, seq_len, **kwargs):\n",
        "    super(Time2Vector, self).__init__()\n",
        "    self.seq_len = seq_len\n",
        "\n",
        "  def build(self, input_shape):\n",
        "    self.weights_linear = self.add_weight(name='weight_linear', shape=(int(self.seq_len),), initializer='uniform',trainable=True)\n",
        "    self.bias_linear = self.add_weight(name='bias_linear', shape=(int(self.seq_len),), initializer='uniform',trainable=True)\n",
        "    self.weights_periodic = self.add_weight(name='weight_periodic', shape=(int(self.seq_len),), initializer='uniform',trainable=True)\n",
        "    self.bias_periodic = self.add_weight(name='bias_periodic', shape=(int(self.seq_len),), initializer='uniform',trainable=True)\n",
        "    \n",
        "  def call(self, x):\n",
        "    x = tf.math.reduce_mean(x[:,:,:], axis=-1)\n",
        "    time_linear = self.weights_linear * x + self.bias_linear\n",
        "    time_linear = tf.expand_dims(time_linear, axis=-1)\n",
        "    time_periodic = tf.math.sin(tf.multiply(x, self.weights_periodic) + self.bias_periodic)\n",
        "    time_periodic = tf.expand_dims(time_periodic, axis=-1)\n",
        "    \n",
        "    return tf.concat([time_linear, time_periodic], axis=-1)\n",
        "\n",
        "class SingleAttention(Layer):\n",
        "  def __init__(self, d_k, d_v):\n",
        "    super(SingleAttention, self).__init__()\n",
        "    self.d_k = d_k\n",
        "    self.d_v = d_v\n",
        "  \n",
        "  def build(self, input_shape):\n",
        "    self.query = Dense(self.d_k, input_shape=input_shape,kernel_initializer='glorot_uniform', bias_initializer='glorot_uniform')\n",
        "    self.key = Dense(self.d_k, input_shape=input_shape,kernel_initializer='glorot_uniform', bias_initializer='glorot_uniform')\n",
        "    self.value = Dense(self.d_v, input_shape=input_shape,kernel_initializer='glorot_uniform', bias_initializer='glorot_uniform')\n",
        "  \n",
        "  def call(self, input): # inputs = (in_seq, in_seq, in_seq)\n",
        "    q = self.query(input)\n",
        "    k = self.key(input)\n",
        "    attn_weights = tf.matmul(q, k, transpose_b=True)\n",
        "    attn_weights = tf.map_fn(lambda x: x/np.sqrt(self.d_k), attn_weights)\n",
        "    attn_weights = tf.nn.softmax(attn_weights, axis=-1)\n",
        "    v = self.value(input)\n",
        "    attn_out = tf.matmul(attn_weights, v)\n",
        "\n",
        "    return attn_out"
      ]
    },
    {
      "cell_type": "markdown",
      "metadata": {
        "id": "nkoFfcUeKnM2"
      },
      "source": [
        "# Multihead attention"
      ]
    },
    {
      "cell_type": "code",
      "execution_count": 13,
      "metadata": {
        "id": "d3duQw9XLwsi"
      },
      "outputs": [],
      "source": [
        "class MultiHeadAttention(Layer):\n",
        "    def __init__(self, nr_heads, d_k, d_v, latent_dim, **kwargs):\n",
        "      super(MultiHeadAttention, self).__init__()\n",
        "      self.d_k = d_k\n",
        "      self.d_v = d_v\n",
        "      self.nr_heads = nr_heads\n",
        "      self.attn_heads = list()\n",
        "      self.latent_dim = latent_dim\n",
        "      self.depth_per_head = int((latent_dim+2)/nr_heads)\n",
        "\n",
        "    def build(self, input_shape): # Batch seq_len latdim+2\n",
        "      for i in range(self.nr_heads):\n",
        "        self.attn_heads.append(SingleAttention(self.d_k,self.d_v))\n",
        "      self.linear1 = Dense(self.latent_dim+2, input_shape=input_shape)\n",
        "\n",
        "    def call(self, x):\n",
        "      outputs = [self.attn_heads[i](x) for i in range(self.nr_heads)]\n",
        "      concated = Concatenate(axis=-1)(outputs)\n",
        "      multi_attention = self.linear1(concated) # Batch_size, seq_len, latent_dim+2      \n",
        "      return multi_attention "
      ]
    },
    {
      "cell_type": "markdown",
      "metadata": {
        "id": "-cra46_w43ol"
      },
      "source": [
        "# Transformer"
      ]
    },
    {
      "cell_type": "code",
      "execution_count": 14,
      "metadata": {
        "id": "sbnIrFbhY8JI"
      },
      "outputs": [],
      "source": [
        "class TransformerEncoder(Layer):\n",
        "    def __init__(self, d_k, d_v,latent_dim, n_heads, **kwargs):\n",
        "      super(TransformerEncoder, self).__init__()\n",
        "      self.d_k = d_k\n",
        "      self.d_v = d_v\n",
        "      self.n_heads=n_heads\n",
        "      self.latent_dim=latent_dim\n",
        "\n",
        "    def build(self,input_shape):\n",
        "      self.multiHeadAtt = MultiHeadAttention(self.n_heads, self.d_k, self.d_v, self.latent_dim)\n",
        "      self.linear1 = Dense(self.latent_dim+2)\n",
        "      self.norm = LayerNormalization()\n",
        "      self.dropout = Dropout(.5)\n",
        "\n",
        "    def call(self, x): # Batch_size, seq_len, latent_dim+2\n",
        "      tmp_x = self.multiHeadAtt(x)\n",
        "      tmp_x = self.dropout(tmp_x)\n",
        "      tmp_x = self.norm(x + tmp_x)\n",
        "      tmp_x = self.linear1(tmp_x)\n",
        "      tmp_x = self.norm(x + tmp_x)\n",
        "      return tmp_x"
      ]
    },
    {
      "cell_type": "markdown",
      "metadata": {
        "id": "K9VaaFz3Kjb0"
      },
      "source": [
        "# Global model"
      ]
    },
    {
      "cell_type": "code",
      "execution_count": 15,
      "metadata": {
        "id": "wXPQ2lu_WfrY"
      },
      "outputs": [],
      "source": [
        "class GlobalModel(Model):\n",
        "  \"\"\"This model takes input from the encoder and spits out the next frame\"\"\"\n",
        "\n",
        "  def __init__(self, seq_len, latent_dim, n_heads, d_k, d_v):\n",
        "    super(GlobalModel, self).__init__()\n",
        "    self.latent_dim = latent_dim\n",
        "    self.seq_len = seq_len\n",
        "    self.dropout = Dropout(.5)\n",
        "    self.time_embedding = Time2Vector(seq_len)\n",
        "    \n",
        "    self.transformer1 = TransformerEncoder(d_k, d_v,latent_dim, n_heads)\n",
        "    self.transformer2 = TransformerEncoder(d_k, d_v,latent_dim, n_heads)\n",
        "    self.transformer3 = TransformerEncoder(d_k, d_v,latent_dim, n_heads)\n",
        "    \n",
        "    self.dense1 = Dense(64, activation='relu')\n",
        "    self.dense2 = Dense(128, activation='relu')\n",
        "    self.dense3 = Dense(64, activation='relu')\n",
        "    self.dense_final = Dense(latent_dim)\n",
        "    \n",
        "\n",
        "  def call(self, inputs): # Batch_size, seq_len, latent_dim\n",
        "    x = self.time_embedding(inputs)\n",
        "    x = Concatenate(axis=-1)([inputs, x]) # Batch_size, seq_len, latent_dim+2\n",
        "    x = self.transformer1(x)\n",
        "    x = self.transformer2(x)\n",
        "    x = self.transformer3(x)\n",
        "\n",
        "    x = Flatten()(x)\n",
        "    x = self.dense1(x)\n",
        "    x = self.dropout(x)\n",
        "    x = self.dense2(x)\n",
        "    x = self.dropout(x)\n",
        "    x = self.dense3(x)\n",
        "    x = self.dense_final(x) # Batch_size, latent_dim\n",
        "    return x"
      ]
    },
    {
      "cell_type": "markdown",
      "metadata": {
        "id": "IDrrZLyvI0qA"
      },
      "source": [
        "# Train"
      ]
    },
    {
      "cell_type": "code",
      "execution_count": 16,
      "metadata": {
        "id": "cdGuZRNIZ3yd"
      },
      "outputs": [],
      "source": [
        "# Prepare data\n",
        "encoded_train = autoencoder.encoder(train_data)\n",
        "encoded_test  = autoencoder.encoder(test_data)\n",
        "\n",
        "train_reshaped = tf.reshape(encoded_train,(int(len(train_data)/10), 10,latent_dim))\n",
        "train_x = train_reshaped[:,:9,:]\n",
        "train_y = train_reshaped[:,9,:]\n",
        "\n",
        "test_reshaped = tf.reshape(encoded_test,(int(len(test_data)/10),10,latent_dim))\n",
        "test_x = test_reshaped[:,:9,:]\n",
        "test_y = test_reshaped[:,9,:]"
      ]
    },
    {
      "cell_type": "code",
      "execution_count": 17,
      "metadata": {
        "id": "xis6lzVmeDWd",
        "colab": {
          "base_uri": "https://localhost:8080/",
          "height": 1000
        },
        "outputId": "b65359ae-ea98-431d-85c7-a2686f645fcd"
      },
      "outputs": [
        {
          "output_type": "stream",
          "name": "stdout",
          "text": [
            "Epoch 1/100\n",
            "30/30 [==============================] - 25s 246ms/step - loss: 834.2883 - val_loss: 709.0338\n",
            "Epoch 2/100\n",
            "30/30 [==============================] - 5s 160ms/step - loss: 743.6008 - val_loss: 612.2324\n",
            "Epoch 3/100\n",
            "30/30 [==============================] - 6s 195ms/step - loss: 669.1650 - val_loss: 509.5386\n",
            "Epoch 4/100\n",
            "30/30 [==============================] - 5s 158ms/step - loss: 600.4328 - val_loss: 489.8654\n",
            "Epoch 5/100\n",
            "30/30 [==============================] - 6s 196ms/step - loss: 567.4900 - val_loss: 449.2129\n",
            "Epoch 6/100\n",
            "30/30 [==============================] - 5s 159ms/step - loss: 532.0741 - val_loss: 410.3808\n",
            "Epoch 7/100\n",
            "30/30 [==============================] - 6s 196ms/step - loss: 493.8480 - val_loss: 369.6945\n",
            "Epoch 8/100\n",
            "30/30 [==============================] - 5s 163ms/step - loss: 494.8415 - val_loss: 382.8439\n",
            "Epoch 9/100\n",
            "30/30 [==============================] - 5s 165ms/step - loss: 484.2963 - val_loss: 357.5309\n",
            "Epoch 10/100\n",
            "30/30 [==============================] - 6s 181ms/step - loss: 460.7599 - val_loss: 331.2707\n",
            "Epoch 11/100\n",
            "30/30 [==============================] - 5s 160ms/step - loss: 447.6973 - val_loss: 383.2791\n",
            "Epoch 12/100\n",
            "30/30 [==============================] - 6s 195ms/step - loss: 422.8333 - val_loss: 328.1063\n",
            "Epoch 13/100\n",
            "30/30 [==============================] - 5s 160ms/step - loss: 433.6819 - val_loss: 338.9302\n",
            "Epoch 14/100\n",
            "30/30 [==============================] - 6s 196ms/step - loss: 426.1579 - val_loss: 329.6749\n",
            "Epoch 15/100\n",
            "30/30 [==============================] - 5s 158ms/step - loss: 405.0622 - val_loss: 329.5831\n",
            "Epoch 16/100\n",
            "30/30 [==============================] - 5s 183ms/step - loss: 400.8389 - val_loss: 295.5263\n",
            "Epoch 17/100\n",
            "30/30 [==============================] - 5s 164ms/step - loss: 386.2562 - val_loss: 276.9000\n",
            "Epoch 18/100\n",
            "30/30 [==============================] - 5s 159ms/step - loss: 389.8841 - val_loss: 307.4656\n",
            "Epoch 19/100\n",
            "30/30 [==============================] - 6s 198ms/step - loss: 371.4185 - val_loss: 260.1854\n",
            "Epoch 20/100\n",
            "30/30 [==============================] - 5s 162ms/step - loss: 366.4812 - val_loss: 285.5385\n",
            "Epoch 21/100\n",
            "30/30 [==============================] - 6s 192ms/step - loss: 369.6971 - val_loss: 291.5134\n",
            "Epoch 22/100\n",
            "30/30 [==============================] - 5s 160ms/step - loss: 373.0064 - val_loss: 263.0711\n",
            "Epoch 23/100\n",
            "30/30 [==============================] - 6s 195ms/step - loss: 358.0280 - val_loss: 292.4370\n",
            "Epoch 24/100\n",
            "30/30 [==============================] - 5s 157ms/step - loss: 387.4657 - val_loss: 264.0416\n",
            "Epoch 25/100\n",
            "30/30 [==============================] - 5s 158ms/step - loss: 374.5181 - val_loss: 266.5523\n",
            "Epoch 26/100\n",
            "30/30 [==============================] - 6s 194ms/step - loss: 351.6668 - val_loss: 259.1844\n",
            "Epoch 27/100\n",
            "30/30 [==============================] - 5s 158ms/step - loss: 352.9838 - val_loss: 308.7781\n",
            "Epoch 28/100\n",
            "30/30 [==============================] - 6s 196ms/step - loss: 351.8417 - val_loss: 273.1293\n",
            "Epoch 29/100\n",
            "30/30 [==============================] - 5s 160ms/step - loss: 352.9443 - val_loss: 247.4664\n",
            "Epoch 30/100\n",
            "30/30 [==============================] - 6s 192ms/step - loss: 343.8155 - val_loss: 266.8244\n",
            "Epoch 31/100\n",
            "30/30 [==============================] - 5s 156ms/step - loss: 336.1811 - val_loss: 249.9501\n",
            "Epoch 32/100\n",
            "30/30 [==============================] - 5s 159ms/step - loss: 328.2168 - val_loss: 246.5101\n",
            "Epoch 33/100\n",
            "30/30 [==============================] - 6s 188ms/step - loss: 320.7755 - val_loss: 251.6193\n",
            "Epoch 34/100\n",
            "30/30 [==============================] - 5s 157ms/step - loss: 337.4565 - val_loss: 272.5070\n",
            "Epoch 35/100\n",
            "30/30 [==============================] - 6s 193ms/step - loss: 314.0622 - val_loss: 248.4533\n",
            "Epoch 36/100\n",
            "30/30 [==============================] - 5s 160ms/step - loss: 323.1265 - val_loss: 236.4171\n",
            "Epoch 37/100\n",
            "30/30 [==============================] - 6s 195ms/step - loss: 333.6260 - val_loss: 227.5520\n",
            "Epoch 38/100\n",
            "30/30 [==============================] - 5s 159ms/step - loss: 318.2856 - val_loss: 240.0755\n",
            "Epoch 39/100\n",
            "30/30 [==============================] - 5s 177ms/step - loss: 324.0466 - val_loss: 263.0709\n",
            "Epoch 40/100\n",
            "30/30 [==============================] - 5s 175ms/step - loss: 334.6432 - val_loss: 237.8654\n",
            "Epoch 41/100\n",
            "30/30 [==============================] - 5s 163ms/step - loss: 323.4309 - val_loss: 245.2883\n",
            "Epoch 42/100\n",
            "30/30 [==============================] - 6s 194ms/step - loss: 321.3130 - val_loss: 236.7022\n",
            "Epoch 43/100\n",
            "30/30 [==============================] - 5s 160ms/step - loss: 314.2906 - val_loss: 249.9153\n",
            "Epoch 44/100\n",
            "30/30 [==============================] - 6s 195ms/step - loss: 313.3692 - val_loss: 267.3929\n",
            "Epoch 45/100\n",
            "30/30 [==============================] - 5s 157ms/step - loss: 310.0659 - val_loss: 217.7981\n",
            "Epoch 46/100\n",
            "30/30 [==============================] - 6s 197ms/step - loss: 327.4355 - val_loss: 222.3475\n",
            "Epoch 47/100\n",
            "30/30 [==============================] - 5s 161ms/step - loss: 313.7492 - val_loss: 226.8934\n",
            "Epoch 48/100\n",
            "30/30 [==============================] - 5s 161ms/step - loss: 309.7174 - val_loss: 274.1055\n",
            "Epoch 49/100\n",
            "30/30 [==============================] - 6s 193ms/step - loss: 316.8723 - val_loss: 246.2683\n",
            "Epoch 50/100\n",
            "30/30 [==============================] - 5s 156ms/step - loss: 301.4106 - val_loss: 256.7295\n",
            "Epoch 51/100\n",
            "30/30 [==============================] - 6s 196ms/step - loss: 288.3303 - val_loss: 216.9219\n",
            "Epoch 52/100\n",
            "30/30 [==============================] - 5s 157ms/step - loss: 303.6152 - val_loss: 249.2228\n",
            "Epoch 53/100\n",
            "30/30 [==============================] - 6s 194ms/step - loss: 294.8358 - val_loss: 209.7596\n",
            "Epoch 54/100\n",
            "30/30 [==============================] - 5s 160ms/step - loss: 294.4286 - val_loss: 253.4283\n",
            "Epoch 55/100\n",
            "30/30 [==============================] - 5s 160ms/step - loss: 292.8226 - val_loss: 245.8923\n",
            "Epoch 56/100\n",
            "30/30 [==============================] - 6s 189ms/step - loss: 290.7730 - val_loss: 231.2870\n",
            "Epoch 57/100\n",
            "30/30 [==============================] - 5s 157ms/step - loss: 292.7957 - val_loss: 224.5916\n",
            "Epoch 58/100\n",
            "30/30 [==============================] - 6s 198ms/step - loss: 298.7520 - val_loss: 195.3423\n",
            "Epoch 59/100\n",
            "30/30 [==============================] - 5s 160ms/step - loss: 273.7763 - val_loss: 230.5715\n",
            "Epoch 60/100\n",
            "30/30 [==============================] - 6s 195ms/step - loss: 287.0907 - val_loss: 201.2374\n",
            "Epoch 61/100\n",
            "30/30 [==============================] - 5s 159ms/step - loss: 300.7785 - val_loss: 229.5346\n",
            "Epoch 62/100\n",
            "30/30 [==============================] - 5s 175ms/step - loss: 291.5894 - val_loss: 207.9815\n",
            "Epoch 63/100\n",
            "30/30 [==============================] - 5s 175ms/step - loss: 297.2823 - val_loss: 222.5081\n",
            "Epoch 64/100\n",
            "30/30 [==============================] - 5s 158ms/step - loss: 282.6099 - val_loss: 215.7136\n",
            "Epoch 65/100\n",
            "30/30 [==============================] - 6s 193ms/step - loss: 286.1912 - val_loss: 241.8993\n",
            "Epoch 66/100\n",
            "30/30 [==============================] - 5s 157ms/step - loss: 278.3054 - val_loss: 222.3972\n",
            "Epoch 67/100\n",
            "30/30 [==============================] - 6s 195ms/step - loss: 280.9754 - val_loss: 222.7004\n",
            "Epoch 68/100\n",
            "30/30 [==============================] - 5s 160ms/step - loss: 275.0741 - val_loss: 218.3032\n"
          ]
        },
        {
          "output_type": "display_data",
          "data": {
            "text/plain": [
              "<Figure size 640x480 with 1 Axes>"
            ],
            "image/png": "[encoded data removed]"
          },
          "metadata": {}
        }
      ],
      "source": [
        "model = GlobalModel(seq_len, latent_dim, n_heads, d_k, d_v)\n",
        "optimizer = tf.keras.optimizers.Adam(learning_rate=0.01)\n",
        "model.compile(loss=\"mse\", optimizer=optimizer)\n",
        "callback = tf.keras.callbacks.EarlyStopping(monitor='val_loss', mode='min', patience=10, restore_best_weights=True)\n",
        "history = model.fit(train_x, train_y, epochs=100, verbose=1, validation_data=(test_x, test_y), callbacks=[callback])\n",
        "plot_loss_history(history)"
      ]
    },
    {
      "cell_type": "code",
      "execution_count": null,
      "metadata": {
        "id": "TqKXNSJhkUUp"
      },
      "outputs": [],
      "source": [
        "plt.figure(figsize=(12, 6))\n",
        "\n",
        "# Original\n",
        "ax1 = plt.subplot(1, 2, 1)\n",
        "plt.imshow(autoencoder.decoder(model(test_x))[1])\n",
        "ax1.axis('off')\n",
        "\n",
        "# Reconstructed\n",
        "ax2 = plt.subplot(1, 2, 2)\n",
        "plt.imshow(autoencoder.decoder(test_y)[1])\n",
        "ax2.axis('off')\n",
        "\n",
        "plt.show()"
      ]
    },
    {
      "cell_type": "markdown",
      "metadata": {
        "id": "Nb5R9pjWNMmy"
      },
      "source": [
        "# LSTM"
      ]
    },
    {
      "cell_type": "code",
      "execution_count": null,
      "metadata": {
        "id": "dGcfo_4jYJ9-"
      },
      "outputs": [],
      "source": [
        "#assert 1+1 == 3"
      ]
    },
    {
      "cell_type": "code",
      "execution_count": null,
      "metadata": {
        "id": "dMFBl9mWLxfd"
      },
      "outputs": [],
      "source": [
        "nodes = 512\n",
        "LSTM = Sequential([\n",
        "    LSTM(nodes, activation='tanh', recurrent_activation='sigmoid', return_sequences=True, input_shape=(seq_len, latent_dim)),\n",
        "    LSTM(nodes, activation='tanh', recurrent_activation='sigmoid', return_sequences=True),\n",
        "    LSTM(nodes, activation='tanh', recurrent_activation='sigmoid', return_sequences=True),\n",
        "    LSTM(nodes, activation='tanh', recurrent_activation='sigmoid', return_sequences=False),\n",
        "    Dropout(0.4),\n",
        "    Dense(latent_dim)\n",
        "])"
      ]
    },
    {
      "cell_type": "code",
      "source": [
        "LSTM.compile(loss='mse', optimizer='adam')\n",
        "callback = tf.keras.callbacks.EarlyStopping(monitor='val_loss', mode='min', patience=10, restore_best_weights=True)\n",
        "history = LSTM.fit(train_x, train_y, epochs=100, verbose=1, validation_data=(test_x, test_y), callbacks=[callback])\n",
        "plot_loss_history(history)"
      ],
      "metadata": {
        "id": "o9BsjMlypBdi"
      },
      "execution_count": null,
      "outputs": []
    },
    {
      "cell_type": "code",
      "source": [
        "pred = LSTM(test_x)\n",
        "pred_frame = autoencoder.decoder(pred)[0]\n",
        "correct_frame = autoencoder.decoder(test_y)[0]\n",
        "\n",
        "plt.figure(figsize=(12, 6))\n",
        "# Original\n",
        "ax1 = plt.subplot(1, 2, 1)\n",
        "plt.imshow(pred_frame)\n",
        "ax1.axis('off')\n",
        "# Reconstructed\n",
        "ax2 = plt.subplot(1, 2, 2)\n",
        "plt.imshow(correct_frame)\n",
        "ax2.axis('off')\n",
        "plt.show()"
      ],
      "metadata": {
        "id": "Sg4KdZc0uG4H"
      },
      "execution_count": null,
      "outputs": []
    },
    {
      "cell_type": "code",
      "source": [
        "\n",
        "\n",
        "# Define the model architecture\n",
        "nodes = 512\n",
        "activation = 'tanh'\n",
        "recurrent_activation = 'sigmoid'\n",
        "dropout_rate = 0.4\n",
        "\n",
        "LSTM = tf.keras.Sequential([\n",
        "    LSTM(nodes, activation=activation, recurrent_activation=recurrent_activation, return_sequences=True, input_shape=(seq_len, latent_dim)),\n",
        "    Dropout(dropout_rate),\n",
        "    LSTM(nodes, activation=activation, recurrent_activation=recurrent_activation, return_sequences=True),\n",
        "    Dropout(dropout_rate),\n",
        "    LSTM(nodes, activation=activation, recurrent_activation=recurrent_activation, return_sequences=True),\n",
        "    Dropout(dropout_rate),\n",
        "    LSTM(nodes, activation=activation, recurrent_activation=recurrent_activation, return_sequences=False),\n",
        "    Dropout(dropout_rate),\n",
        "    Dense(latent_dim)\n",
        "])\n",
        "\n",
        "# Define the optimizer and loss function\n",
        "learning_rate = 0.001\n",
        "optimizer = Adam(learning_rate=learning_rate)\n",
        "loss = 'mae'\n",
        "\n",
        "# Compile the model\n",
        "LSTM.compile(optimizer=optimizer, loss=loss)\n",
        "\n",
        "# Define the callbacks\n",
        "early_stopping = EarlyStopping(monitor='val_loss', mode='min', patience=12, restore_best_weights=True)\n",
        "def scheduler(epoch, lr):\n",
        "    if epoch < 40:\n",
        "        return lr\n",
        "    else:\n",
        "        return lr * tf.math.exp(-0.05)\n",
        "lr_scheduler = LearningRateScheduler(scheduler)\n",
        "\n",
        "# Train the model\n",
        "history = LSTM.fit(train_x, train_y, epochs=100, verbose=1, validation_data=(test_x, test_y), callbacks=[early_stopping, lr_scheduler])\n",
        "plot_loss_history(history)"
      ],
      "metadata": {
        "colab": {
          "base_uri": "https://localhost:8080/",
          "height": 380
        },
        "id": "AFLbqEP-znFn",
        "outputId": "789567bc-0e9f-45eb-d372-08228299f629"
      },
      "execution_count": 23,
      "outputs": [
        {
          "ename": "TypeError",
          "evalue": "ignored",
          "output_type": "error",
          "traceback": [
            "\u001b[0;31m---------------------------------------------------------------------------\u001b[0m",
            "\u001b[0;31mTypeError\u001b[0m                                 Traceback (most recent call last)",
            "\u001b[0;32m<ipython-input-23-2c5da5629d9a>\u001b[0m in \u001b[0;36m<cell line: 7>\u001b[0;34m()\u001b[0m\n\u001b[1;32m      6\u001b[0m \u001b[0;34m\u001b[0m\u001b[0m\n\u001b[1;32m      7\u001b[0m LSTM = tf.keras.Sequential([\n\u001b[0;32m----> 8\u001b[0;31m     \u001b[0mLSTM\u001b[0m\u001b[0;34m(\u001b[0m\u001b[0mnodes\u001b[0m\u001b[0;34m,\u001b[0m \u001b[0mactivation\u001b[0m\u001b[0;34m=\u001b[0m\u001b[0mactivation\u001b[0m\u001b[0;34m,\u001b[0m \u001b[0mrecurrent_activation\u001b[0m\u001b[0;34m=\u001b[0m\u001b[0mrecurrent_activation\u001b[0m\u001b[0;34m,\u001b[0m \u001b[0mreturn_sequences\u001b[0m\u001b[0;34m=\u001b[0m\u001b[0;32mTrue\u001b[0m\u001b[0;34m,\u001b[0m \u001b[0minput_shape\u001b[0m\u001b[0;34m=\u001b[0m\u001b[0;34m(\u001b[0m\u001b[0mseq_len\u001b[0m\u001b[0;34m,\u001b[0m \u001b[0mlatent_dim\u001b[0m\u001b[0;34m)\u001b[0m\u001b[0;34m)\u001b[0m\u001b[0;34m,\u001b[0m\u001b[0;34m\u001b[0m\u001b[0;34m\u001b[0m\u001b[0m\n\u001b[0m\u001b[1;32m      9\u001b[0m     \u001b[0mDropout\u001b[0m\u001b[0;34m(\u001b[0m\u001b[0mdropout_rate\u001b[0m\u001b[0;34m)\u001b[0m\u001b[0;34m,\u001b[0m\u001b[0;34m\u001b[0m\u001b[0;34m\u001b[0m\u001b[0m\n\u001b[1;32m     10\u001b[0m     \u001b[0mLSTM\u001b[0m\u001b[0;34m(\u001b[0m\u001b[0mnodes\u001b[0m\u001b[0;34m,\u001b[0m \u001b[0mactivation\u001b[0m\u001b[0;34m=\u001b[0m\u001b[0mactivation\u001b[0m\u001b[0;34m,\u001b[0m \u001b[0mrecurrent_activation\u001b[0m\u001b[0;34m=\u001b[0m\u001b[0mrecurrent_activation\u001b[0m\u001b[0;34m,\u001b[0m \u001b[0mreturn_sequences\u001b[0m\u001b[0;34m=\u001b[0m\u001b[0;32mTrue\u001b[0m\u001b[0;34m)\u001b[0m\u001b[0;34m,\u001b[0m\u001b[0;34m\u001b[0m\u001b[0;34m\u001b[0m\u001b[0m\n",
            "\u001b[0;32m/usr/local/lib/python3.10/dist-packages/keras/utils/traceback_utils.py\u001b[0m in \u001b[0;36merror_handler\u001b[0;34m(*args, **kwargs)\u001b[0m\n\u001b[1;32m     68\u001b[0m             \u001b[0;31m# To get the full stack trace, call:\u001b[0m\u001b[0;34m\u001b[0m\u001b[0;34m\u001b[0m\u001b[0m\n\u001b[1;32m     69\u001b[0m             \u001b[0;31m# `tf.debugging.disable_traceback_filtering()`\u001b[0m\u001b[0;34m\u001b[0m\u001b[0;34m\u001b[0m\u001b[0m\n\u001b[0;32m---> 70\u001b[0;31m             \u001b[0;32mraise\u001b[0m \u001b[0me\u001b[0m\u001b[0;34m.\u001b[0m\u001b[0mwith_traceback\u001b[0m\u001b[0;34m(\u001b[0m\u001b[0mfiltered_tb\u001b[0m\u001b[0;34m)\u001b[0m \u001b[0;32mfrom\u001b[0m \u001b[0;32mNone\u001b[0m\u001b[0;34m\u001b[0m\u001b[0;34m\u001b[0m\u001b[0m\n\u001b[0m\u001b[1;32m     71\u001b[0m         \u001b[0;32mfinally\u001b[0m\u001b[0;34m:\u001b[0m\u001b[0;34m\u001b[0m\u001b[0;34m\u001b[0m\u001b[0m\n\u001b[1;32m     72\u001b[0m             \u001b[0;32mdel\u001b[0m \u001b[0mfiltered_tb\u001b[0m\u001b[0;34m\u001b[0m\u001b[0;34m\u001b[0m\u001b[0m\n",
            "\u001b[0;32m/usr/local/lib/python3.10/dist-packages/keras/utils/traceback_utils.py\u001b[0m in \u001b[0;36merror_handler\u001b[0;34m(*args, **kwargs)\u001b[0m\n\u001b[1;32m     94\u001b[0m         \u001b[0mbound_signature\u001b[0m \u001b[0;34m=\u001b[0m \u001b[0;32mNone\u001b[0m\u001b[0;34m\u001b[0m\u001b[0;34m\u001b[0m\u001b[0m\n\u001b[1;32m     95\u001b[0m         \u001b[0;32mtry\u001b[0m\u001b[0;34m:\u001b[0m\u001b[0;34m\u001b[0m\u001b[0;34m\u001b[0m\u001b[0m\n\u001b[0;32m---> 96\u001b[0;31m             \u001b[0;32mreturn\u001b[0m \u001b[0mfn\u001b[0m\u001b[0;34m(\u001b[0m\u001b[0;34m*\u001b[0m\u001b[0margs\u001b[0m\u001b[0;34m,\u001b[0m \u001b[0;34m**\u001b[0m\u001b[0mkwargs\u001b[0m\u001b[0;34m)\u001b[0m\u001b[0;34m\u001b[0m\u001b[0;34m\u001b[0m\u001b[0m\n\u001b[0m\u001b[1;32m     97\u001b[0m         \u001b[0;32mexcept\u001b[0m \u001b[0mException\u001b[0m \u001b[0;32mas\u001b[0m \u001b[0me\u001b[0m\u001b[0;34m:\u001b[0m\u001b[0;34m\u001b[0m\u001b[0;34m\u001b[0m\u001b[0m\n\u001b[1;32m     98\u001b[0m             \u001b[0;32mif\u001b[0m \u001b[0mhasattr\u001b[0m\u001b[0;34m(\u001b[0m\u001b[0me\u001b[0m\u001b[0;34m,\u001b[0m \u001b[0;34m\"_keras_call_info_injected\"\u001b[0m\u001b[0;34m)\u001b[0m\u001b[0;34m:\u001b[0m\u001b[0;34m\u001b[0m\u001b[0;34m\u001b[0m\u001b[0m\n",
            "\u001b[0;31mTypeError\u001b[0m: Sequential.call() got an unexpected keyword argument 'activation'"
          ]
        }
      ]
    }
  ],
  "metadata": {
    "accelerator": "GPU",
    "colab": {
      "collapsed_sections": [
        "pJ1POMWmv-mp",
        "_gBuSD6LpstH",
        "hGa3gWQAsbBb",
        "g_J7vJE-POcI",
        "nkoFfcUeKnM2",
        "-cra46_w43ol",
        "K9VaaFz3Kjb0"
      ],
      "provenance": [],
      "gpuType": "T4"
    },
    "gpuClass": "standard",
    "kernelspec": {
      "display_name": "Python 3",
      "name": "python3"
    },
    "language_info": {
      "name": "python"
    }
  },
  "nbformat": 4,
  "nbformat_minor": 0
}