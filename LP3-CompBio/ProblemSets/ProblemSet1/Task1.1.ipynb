{
 "cells": [
  {
   "cell_type": "code",
   "execution_count": 3,
   "metadata": {
    "collapsed": true
   },
   "outputs": [],
   "source": [
    "import numpy as np\n",
    "import matplotlib.pyplot as plt\n",
    "import sympy as sp\n",
    "from ddeint import ddeint"
   ]
  },
  {
   "cell_type": "code",
   "execution_count": 5,
   "outputs": [
    {
     "ename": "ValueError",
     "evalue": "setting an array element with a sequence. The requested array has an inhomogeneous shape after 1 dimensions. The detected shape was (2000,) + inhomogeneous part.",
     "output_type": "error",
     "traceback": [
      "\u001B[1;31m---------------------------------------------------------------------------\u001B[0m",
      "\u001B[1;31mValueError\u001B[0m                                Traceback (most recent call last)",
      "Cell \u001B[1;32mIn[5], line 73\u001B[0m\n\u001B[0;32m     69\u001B[0m     fig\u001B[38;5;241m.\u001B[39msuptitle(\u001B[38;5;124m'\u001B[39m\u001B[38;5;124mFirst limit cycle = Hopf bifurcation has occured, T = \u001B[39m\u001B[38;5;132;01m{}\u001B[39;00m\u001B[38;5;124m'\u001B[39m\u001B[38;5;241m.\u001B[39mformat(np\u001B[38;5;241m.\u001B[39mround(time, \u001B[38;5;241m2\u001B[39m)))\n\u001B[0;32m     70\u001B[0m     plt\u001B[38;5;241m.\u001B[39mshow()\n\u001B[1;32m---> 73\u001B[0m \u001B[43mplotSingleT\u001B[49m\u001B[43m(\u001B[49m\u001B[38;5;241;43m3\u001B[39;49m\u001B[43m,\u001B[49m\u001B[43m \u001B[49m\u001B[38;5;241;43m800\u001B[39;49m\u001B[43m)\u001B[49m\n\u001B[0;32m     74\u001B[0m \u001B[38;5;66;03m#findDampedOsc()\u001B[39;00m\n\u001B[0;32m     75\u001B[0m \u001B[38;5;66;03m#findHopf()\u001B[39;00m\n",
      "Cell \u001B[1;32mIn[5], line 48\u001B[0m, in \u001B[0;36mplotSingleT\u001B[1;34m(T, endtime)\u001B[0m\n\u001B[0;32m     46\u001B[0m \u001B[38;5;28;01mdef\u001B[39;00m \u001B[38;5;21mplotSingleT\u001B[39m(T, endtime\u001B[38;5;241m=\u001B[39m\u001B[38;5;241m200\u001B[39m):\n\u001B[0;32m     47\u001B[0m     ts_ \u001B[38;5;241m=\u001B[39m np\u001B[38;5;241m.\u001B[39mlinspace(\u001B[38;5;241m0\u001B[39m,\u001B[38;5;241m200\u001B[39m,\u001B[38;5;241m2000\u001B[39m)\n\u001B[1;32m---> 48\u001B[0m     ns_\u001B[38;5;241m=\u001B[39m \u001B[43mmain\u001B[49m\u001B[43m(\u001B[49m\u001B[43mT\u001B[49m\u001B[43m,\u001B[49m\u001B[43m \u001B[49m\u001B[43mendtime\u001B[49m\u001B[38;5;241;43m=\u001B[39;49m\u001B[38;5;241;43m200\u001B[39;49m\u001B[43m)\u001B[49m\n\u001B[0;32m     49\u001B[0m     \u001B[38;5;28mprint\u001B[39m(np\u001B[38;5;241m.\u001B[39mmax(ns_))\n\u001B[0;32m     50\u001B[0m     plt\u001B[38;5;241m.\u001B[39mplot(ts_, ns_)\n",
      "Cell \u001B[1;32mIn[5], line 7\u001B[0m, in \u001B[0;36mmain\u001B[1;34m(T, endtime)\u001B[0m\n\u001B[0;32m      5\u001B[0m N0 \u001B[38;5;241m=\u001B[39m \u001B[38;5;241m50\u001B[39m\n\u001B[0;32m      6\u001B[0m ts \u001B[38;5;241m=\u001B[39m np\u001B[38;5;241m.\u001B[39mlinspace(\u001B[38;5;241m0\u001B[39m,endtime,\u001B[38;5;241m2000\u001B[39m)\n\u001B[1;32m----> 7\u001B[0m ns \u001B[38;5;241m=\u001B[39m \u001B[43mddeint\u001B[49m\u001B[43m(\u001B[49m\u001B[43mNprim\u001B[49m\u001B[43m,\u001B[49m\u001B[43m \u001B[49m\u001B[43minitial_history\u001B[49m\u001B[43m,\u001B[49m\u001B[43m \u001B[49m\u001B[43mts\u001B[49m\u001B[43m,\u001B[49m\u001B[43m \u001B[49m\u001B[43mfargs\u001B[49m\u001B[38;5;241;43m=\u001B[39;49m\u001B[43m(\u001B[49m\u001B[43mr\u001B[49m\u001B[43m,\u001B[49m\u001B[43m \u001B[49m\u001B[43mK\u001B[49m\u001B[43m,\u001B[49m\u001B[43m \u001B[49m\u001B[43mA\u001B[49m\u001B[43m,\u001B[49m\u001B[43m \u001B[49m\u001B[43mT\u001B[49m\u001B[43m)\u001B[49m\u001B[43m)\u001B[49m\n\u001B[0;32m      9\u001B[0m \u001B[38;5;28;01mreturn\u001B[39;00m ns\n",
      "File \u001B[1;32m~\\Documents\\Chalmers material\\CAS1\\LP3-CompBio\\ProblemSets\\venv\\interpreter\\lib\\site-packages\\ddeint\\ddeint.py:145\u001B[0m, in \u001B[0;36mddeint\u001B[1;34m(func, g, tt, fargs)\u001B[0m\n\u001B[0;32m    143\u001B[0m dde_\u001B[38;5;241m.\u001B[39mset_f_params(fargs \u001B[38;5;28;01mif\u001B[39;00m fargs \u001B[38;5;28;01melse\u001B[39;00m [])\n\u001B[0;32m    144\u001B[0m results \u001B[38;5;241m=\u001B[39m [dde_\u001B[38;5;241m.\u001B[39mintegrate(dde_\u001B[38;5;241m.\u001B[39mt \u001B[38;5;241m+\u001B[39m dt) \u001B[38;5;28;01mfor\u001B[39;00m dt \u001B[38;5;129;01min\u001B[39;00m np\u001B[38;5;241m.\u001B[39mdiff(tt)]\n\u001B[1;32m--> 145\u001B[0m \u001B[38;5;28;01mreturn\u001B[39;00m \u001B[43mnp\u001B[49m\u001B[38;5;241;43m.\u001B[39;49m\u001B[43marray\u001B[49m\u001B[43m(\u001B[49m\u001B[43m[\u001B[49m\u001B[43mg\u001B[49m\u001B[43m(\u001B[49m\u001B[43mtt\u001B[49m\u001B[43m[\u001B[49m\u001B[38;5;241;43m0\u001B[39;49m\u001B[43m]\u001B[49m\u001B[43m)\u001B[49m\u001B[43m]\u001B[49m\u001B[43m \u001B[49m\u001B[38;5;241;43m+\u001B[39;49m\u001B[43m \u001B[49m\u001B[43mresults\u001B[49m\u001B[43m)\u001B[49m\n",
      "\u001B[1;31mValueError\u001B[0m: setting an array element with a sequence. The requested array has an inhomogeneous shape after 1 dimensions. The detected shape was (2000,) + inhomogeneous part."
     ]
    }
   ],
   "source": [
    "def main(T, endtime):\n",
    "    A = 20\n",
    "    K = 100\n",
    "    r = 0.1\n",
    "    N0 = 50\n",
    "    ts = np.linspace(0,endtime,2000)\n",
    "    ns = ddeint(Nprim, initial_history, ts, fargs=(r, K, A, T))\n",
    "\n",
    "    return ns\n",
    "\n",
    "def Nprim(N, t, r, K, A, T):\n",
    "    return r*N(t)*(1-N(t-T)/K)*(N(t)/A-1)\n",
    "\n",
    "def initial_history(t):\n",
    "    return 50.\n",
    "\n",
    "def gen_images(endtime):\n",
    "    ts_ = np.linspace(0,endtime,2000)\n",
    "    ns_= np.zeros((6, len(ts_)))\n",
    "    fig, ax = plt.subplots(2,3, figsize=(15,10))\n",
    "    for idx, time in enumerate(np.array([0.1, 2, 3, 4, 4.5, 5])):\n",
    "        ns_[idx] = main(time)\n",
    "        ax[idx//3, idx%3].plot(ts_, ns_[idx])\n",
    "        ax[idx//3, idx%3].set_title('T = {}'.format(time))\n",
    "        ax[idx//3, idx%3].set_xlabel('t')\n",
    "        ax[idx//3, idx%3].set_ylabel('N(t)')\n",
    "        ax[idx//3, idx%3].grid(True)\n",
    "    fig.suptitle('N(t) vs t for different values of T')\n",
    "    plt.show()\n",
    "\n",
    "def findDampedOsc(endtime):\n",
    "    ts_ = np.linspace(0,endtime,2000)\n",
    "    ns_= np.zeros(len(ts_))\n",
    "    fig, ax = plt.subplots(1,1, figsize=(15,10))\n",
    "    for idx, time in enumerate(np.arange(0.1, 5, 0.05)):\n",
    "        ns_ = main(time, endtime)\n",
    "        if np.max(ns_) >101:\n",
    "            print('T = {}'.format(time))\n",
    "            break\n",
    "    plt.plot(ts_, ns_)\n",
    "    plt.grid(True)\n",
    "    fig.suptitle('First found damped oscillator, T = {}'.format(np.round(time, 2)))\n",
    "    plt.show()\n",
    "\n",
    "\n",
    "def plotSingleT(T, endtime=200):\n",
    "    ts_ = np.linspace(0,200,2000)\n",
    "    ns_= main(T, endtime=200)\n",
    "    print(np.max(ns_))\n",
    "    plt.plot(ts_, ns_)\n",
    "    plt.grid(True)\n",
    "    plt.show()\n",
    "\n",
    "def findHopf(endtime):\n",
    "    ts_ = np.linspace(0,200,2000)\n",
    "    ns_= np.zeros(len(ts_))\n",
    "    fig, ax = plt.subplots(1,1, figsize=(15,10))\n",
    "    for idx, time in enumerate(np.arange(4, 5, 0.05)):\n",
    "        ns_ = main(time, endtime)\n",
    "        if np.max(ns_) >101:\n",
    "            if len(np.where((np.max(ns_)-0.001< ns_) & (ns_ <0.001+ np.max(ns_)))[0]) > 1:\n",
    "                print('T = {}'.format(time))\n",
    "                break\n",
    "\n",
    "    plt.plot(ts_, ns_)\n",
    "    plt.xlabel('t')\n",
    "    plt.ylabel('N(t)')\n",
    "    plt.grid(True)\n",
    "    fig.suptitle('First limit cycle = Hopf bifurcation has occured, T = {}'.format(np.round(time, 2)))\n",
    "    plt.show()\n",
    "\n",
    "\n",
    "plotSingleT(3, 800)\n",
    "#findDampedOsc()\n",
    "#findHopf()"
   ],
   "metadata": {
    "collapsed": false
   }
  },
  {
   "cell_type": "code",
   "execution_count": null,
   "outputs": [],
   "source": [],
   "metadata": {
    "collapsed": false
   }
  }
 ],
 "metadata": {
  "kernelspec": {
   "display_name": "Python 3",
   "language": "python",
   "name": "python3"
  },
  "language_info": {
   "codemirror_mode": {
    "name": "ipython",
    "version": 2
   },
   "file_extension": ".py",
   "mimetype": "text/x-python",
   "name": "python",
   "nbconvert_exporter": "python",
   "pygments_lexer": "ipython2",
   "version": "2.7.6"
  }
 },
 "nbformat": 4,
 "nbformat_minor": 0
}
